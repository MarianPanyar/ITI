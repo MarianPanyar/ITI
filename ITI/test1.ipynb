{
 "cells": [
  {
   "cell_type": "code",
   "execution_count": 1,
   "metadata": {},
   "outputs": [],
   "source": [
    "import numpy as np"
   ]
  },
  {
   "cell_type": "code",
   "execution_count": 3,
   "metadata": {},
   "outputs": [],
   "source": [
    "A = np.asarray([[0,0,2,3,0],[2,1,4,0,0],[0,2,3,4,0],[4,0,0,5,0],[0,0,1,0,0]])\n",
    "B = np.asarray([[0,0,2,3,0],[2,1,4,0,0],[0,2,3,4,0]])"
   ]
  },
  {
   "cell_type": "code",
   "execution_count": 8,
   "metadata": {},
   "outputs": [],
   "source": [
    "def normalize(weights,mean=1,bias=0):\n",
    "    newweights = (weights.T/np.sum(weights,axis=1)).T *(np.shape(weights)[1])*mean -bias\n",
    "    return newweights\n"
   ]
  },
  {
   "cell_type": "raw",
   "metadata": {},
   "source": []
  },
  {
   "cell_type": "code",
   "execution_count": 11,
   "metadata": {},
   "outputs": [],
   "source": [
    "B=normalize(B)\n",
    "A=normalize(A)"
   ]
  },
  {
   "cell_type": "code",
   "execution_count": 46,
   "metadata": {},
   "outputs": [],
   "source": [
    "A1=A\n",
    "for i in range(10000):\n",
    "    A1=np.append(A1,A,axis=0)"
   ]
  },
  {
   "cell_type": "code",
   "execution_count": 54,
   "metadata": {},
   "outputs": [
    {
     "data": {
      "text/plain": [
       "array([[0.        , 3.50509833, 1.39664501],\n",
       "       [3.50509833, 0.        , 2.92468663],\n",
       "       [1.39664501, 2.92468663, 0.        ],\n",
       "       [2.99794168, 4.12545759, 3.0429031 ],\n",
       "       [4.24264069, 2.67261242, 4.1573971 ]])"
      ]
     },
     "execution_count": 54,
     "metadata": {},
     "output_type": "execute_result"
    }
   ],
   "source": [
    "from scipy.spatial.distance import cdist\n",
    "\n",
    "cdist(A, B, 'euclid')"
   ]
  },
  {
   "cell_type": "code",
   "execution_count": 20,
   "metadata": {},
   "outputs": [],
   "source": [
    "import time\n",
    "from sklearn.metrics.pairwise import euclidean_distances"
   ]
  },
  {
   "cell_type": "code",
   "execution_count": 75,
   "metadata": {},
   "outputs": [
    {
     "name": "stdout",
     "output_type": "stream",
     "text": [
      "0.0004248619079589844\n"
     ]
    }
   ],
   "source": [
    "\n",
    "\n",
    "start = time.time()\n",
    "#euclidean_distances(A1,B)\n",
    "np.dot(A1,B.T)\n",
    "#cdist(A1, B, 'euclid')\n",
    "end = time.time()\n",
    "print(end - start)"
   ]
  },
  {
   "cell_type": "code",
   "execution_count": 42,
   "metadata": {},
   "outputs": [
    {
     "data": {
      "text/plain": [
       "array([[13.        ,  5.71428571, 10.        ],\n",
       "       [ 5.71428571, 10.71428571,  5.55555556],\n",
       "       [10.        ,  5.55555556,  8.95061728],\n",
       "       ...,\n",
       "       [10.        ,  5.55555556,  8.95061728],\n",
       "       [ 8.33333333,  3.17460317,  6.17283951],\n",
       "       [10.        , 14.28571429,  8.33333333]])"
      ]
     },
     "execution_count": 42,
     "metadata": {},
     "output_type": "execute_result"
    }
   ],
   "source": []
  },
  {
   "cell_type": "code",
   "execution_count": null,
   "metadata": {},
   "outputs": [],
   "source": []
  }
 ],
 "metadata": {
  "kernelspec": {
   "display_name": "Python 3",
   "language": "python",
   "name": "python3"
  },
  "language_info": {
   "codemirror_mode": {
    "name": "ipython",
    "version": 3
   },
   "file_extension": ".py",
   "mimetype": "text/x-python",
   "name": "python",
   "nbconvert_exporter": "python",
   "pygments_lexer": "ipython3",
   "version": "3.7.4"
  }
 },
 "nbformat": 4,
 "nbformat_minor": 2
}
